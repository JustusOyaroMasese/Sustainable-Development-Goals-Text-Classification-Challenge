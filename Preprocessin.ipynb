{
 "cells": [
  {
   "cell_type": "code",
   "execution_count": 1,
   "metadata": {},
   "outputs": [],
   "source": [
    "import pandas as pd\n",
    "import numpy as np\n",
    "import matplotlib.pyplot as plt\n",
    "plt.style.use(\"ggplot\")\n",
    "%matplotlib inline"
   ]
  },
  {
   "cell_type": "code",
   "execution_count": 2,
   "metadata": {},
   "outputs": [],
   "source": [
    "train = pd.read_csv('Devex_train.csv',encoding='latin-1')\n"
   ]
  },
  {
   "cell_type": "code",
   "execution_count": 3,
   "metadata": {},
   "outputs": [],
   "source": [
    "df = train.copy()"
   ]
  },
  {
   "cell_type": "code",
   "execution_count": 4,
   "metadata": {},
   "outputs": [],
   "source": [
    "onehotencode = df[['Label 1', 'Label 2', 'Label 3',\\\n",
    "    'Label 4', 'Label 5', 'Label 6',\\\n",
    "    'Label 7','Label 8', 'Label 9', \\\n",
    "    'Label 10', 'Label 11', 'Label 12']].applymap(str).applymap(lambda x: x.split('-')[0].strip())"
   ]
  },
  {
   "cell_type": "code",
   "execution_count": 6,
   "metadata": {},
   "outputs": [
    {
     "data": {
      "text/plain": [
       "{'3.b.2': 1044,\n",
       " '3.d.1': 217,\n",
       " '3.4.1': 485,\n",
       " '3.3.5': 156,\n",
       " '3.7.1': 189,\n",
       " '3.b.3': 397,\n",
       " '3.3.2': 174,\n",
       " '3.9.2': 218,\n",
       " '3.c.1': 232,\n",
       " '3.8.1': 531,\n",
       " '3.3.1': 372,\n",
       " '3.2.2': 138,\n",
       " '3.2.1': 249,\n",
       " '3.9.3': 63,\n",
       " '3.5.2': 68,\n",
       " '3.3.3': 158,\n",
       " '3.4.2': 61,\n",
       " '3.b.1': 185,\n",
       " '3.a.1': 76,\n",
       " '3.9.1': 55,\n",
       " '3.3.4': 53,\n",
       " '3.1.1': 218,\n",
       " '3.5.1': 123,\n",
       " '3.8.2': 161,\n",
       " '3.1.2': 97,\n",
       " '3.6.1': 33,\n",
       " '3.7.2': 165}"
      ]
     },
     "execution_count": 6,
     "metadata": {},
     "output_type": "execute_result"
    }
   ],
   "source": [
    "def to_frequency_table(data):\n",
    "    frequencytable = {}\n",
    "    for key in data:\n",
    "        #print(key)\n",
    "        for element in data[key]:\n",
    "            if element in frequencytable:\n",
    "                #print(\"Hello\")\n",
    "                #print(key)\n",
    "                frequencytable[element] += 1\n",
    "            else:\n",
    "                frequencytable[element] = 1\n",
    "    return frequencytable\n",
    "D = to_frequency_table(onehotencode)\n",
    "del D['nan']\n",
    "D"
   ]
  },
  {
   "cell_type": "code",
   "execution_count": 7,
   "metadata": {},
   "outputs": [],
   "source": [
    "from sklearn.feature_extraction.text import CountVectorizer\n",
    "def hot_encode_free_text(df,col_list):\n",
    "    df1 = df[col_list].apply(lambda x: ' '.join(x), axis=1)\n",
    "    #cv = CountVectorizer(vocabulary=vocab,ngram_range=(1, 2))#token_pattern=r'(?u)\\b\\w+\\b\n",
    "    #cv = CountVectorizer(token_pattern=r'(?u)\\b\\w+\\b')#\\b[^\\d\\W]+\\b\n",
    "    cv = CountVectorizer(tokenizer=my_tokenizer)\n",
    "    X_train = cv.fit_transform(df)\n",
    "    X_train = pd.DataFrame(X_train.toarray(), columns=cv.get_feature_names())\n",
    "    return X_train.applymap(convert_num)\n",
    "    #return X_train\n",
    "def convert_num(num):\n",
    "    if num == 0:\n",
    "        return 0\n",
    "    else:\n",
    "        return 1"
   ]
  },
  {
   "cell_type": "code",
   "execution_count": 8,
   "metadata": {},
   "outputs": [],
   "source": [
    "#\\b[^\\d\\W]+\\b\n",
    "import spacy\n",
    "#from html import unescape\n",
    "#from spacy.lang.en.examples import sentences\n",
    "# create a spaCy tokenizer\n",
    "spacy.load('en')\n",
    "lemmatizer = spacy.lang.en.English()\n",
    "def my_tokenizer(doc):\n",
    "    tokens = lemmatizer(doc)\n",
    "    return([token.lemma_ for token in tokens])\n",
    "#my_tokenizer(vocab[0])"
   ]
  },
  {
   "cell_type": "code",
   "execution_count": 9,
   "metadata": {},
   "outputs": [],
   "source": [
    "vocab = ['3.1.1','3.1.2',\n",
    " '3.2.1','3.2.2','3.3.1',\n",
    "'3.3.2','3.3.3','3.3.4',\n",
    "'3.3.5','3.4.1','3.4.2',\n",
    "'3.5.1','3.5.2','3.6.1',\n",
    "'3.7.1','3.7.2','3.8.1',\n",
    "'3.8.2','3.9.1','3.9.2',\n",
    "'3.9.3','3.a.1','3.b.1',\n",
    "'3.b.2','3.b.3','3.c.1',\n",
    " '3.d.1']"
   ]
  },
  {
   "cell_type": "code",
   "execution_count": 10,
   "metadata": {},
   "outputs": [],
   "source": [
    "pd.options.display.max_columns = 1000\n",
    "pd.options.display.max_rows = 5000"
   ]
  },
  {
   "cell_type": "code",
   "execution_count": 12,
   "metadata": {},
   "outputs": [],
   "source": [
    "hot_encoded_labels = hot_encode_free_text(onehotencode, onehotencode.columns.tolist())"
   ]
  },
  {
   "cell_type": "code",
   "execution_count": 15,
   "metadata": {},
   "outputs": [],
   "source": [
    "data = pd.merge(train[['Unique ID', 'Type', 'Text']], hot_encoded_labels,\\\n",
    "                         left_on=train[['Unique ID', 'Type', 'Text']].index,\\\n",
    "                         right_on=hot_encoded_labels.index, how ='inner')\n"
   ]
  },
  {
   "cell_type": "code",
   "execution_count": 16,
   "metadata": {},
   "outputs": [],
   "source": [
    "import re\n",
    "\n",
    "#Without removing stop words\n",
    "\n",
    "def clean_text_final(text):\n",
    "    \n",
    "    # remove HTML tags\n",
    "    text = re.sub(r'<.*?>', '', text)\n",
    "    \n",
    "    # remove the characters [\\], ['] and [\"]\n",
    "    text = re.sub(r\"\\\\\", \"\", text)    \n",
    "    text = re.sub(r\"\\'\", \"\", text)    \n",
    "    text = re.sub(r\"\\\"\", \"\", text)    \n",
    "    \n",
    "    # convert text to lowercase\n",
    "    text = text.strip().lower()\n",
    "    \n",
    "    # replace punctuation characters with spaces\n",
    "    filters='!\"\\'#$%&()*+,-./:;<=>?@[\\\\]^_`{|}~\\t\\n'\n",
    "    translate_dict = dict((c, \" \") for c in filters)\n",
    "    translate_map = str.maketrans(translate_dict)\n",
    "    text = text.translate(translate_map)\n",
    "\n",
    "    return text"
   ]
  },
  {
   "cell_type": "code",
   "execution_count": 17,
   "metadata": {},
   "outputs": [],
   "source": [
    "for i in range(len(data)):\n",
    "    data.at[i,'Text'] = clean_text_final(data.at[i,'Text'])"
   ]
  },
  {
   "cell_type": "code",
   "execution_count": 19,
   "metadata": {},
   "outputs": [],
   "source": [
    "df1 = data.rename(columns={'Unique ID':'ID'})"
   ]
  },
  {
   "cell_type": "code",
   "execution_count": 20,
   "metadata": {},
   "outputs": [],
   "source": [
    "df2 = df1.drop(['Type'], axis=1)"
   ]
  },
  {
   "cell_type": "code",
   "execution_count": 21,
   "metadata": {},
   "outputs": [
    {
     "data": {
      "text/html": [
       "<div>\n",
       "<style scoped>\n",
       "    .dataframe tbody tr th:only-of-type {\n",
       "        vertical-align: middle;\n",
       "    }\n",
       "\n",
       "    .dataframe tbody tr th {\n",
       "        vertical-align: top;\n",
       "    }\n",
       "\n",
       "    .dataframe thead th {\n",
       "        text-align: right;\n",
       "    }\n",
       "</style>\n",
       "<table border=\"1\" class=\"dataframe\">\n",
       "  <thead>\n",
       "    <tr style=\"text-align: right;\">\n",
       "      <th></th>\n",
       "      <th>key_0</th>\n",
       "      <th>ID</th>\n",
       "      <th>Text</th>\n",
       "      <th>1</th>\n",
       "      <th>10</th>\n",
       "      <th>11</th>\n",
       "      <th>12</th>\n",
       "      <th>2</th>\n",
       "      <th>3</th>\n",
       "      <th>4</th>\n",
       "      <th>5</th>\n",
       "      <th>6</th>\n",
       "      <th>7</th>\n",
       "      <th>8</th>\n",
       "      <th>9</th>\n",
       "      <th>label</th>\n",
       "    </tr>\n",
       "  </thead>\n",
       "  <tbody>\n",
       "    <tr>\n",
       "      <th>0</th>\n",
       "      <td>0</td>\n",
       "      <td>12555</td>\n",
       "      <td>centers of biomedical research excellence  cob...</td>\n",
       "      <td>1</td>\n",
       "      <td>0</td>\n",
       "      <td>0</td>\n",
       "      <td>0</td>\n",
       "      <td>0</td>\n",
       "      <td>0</td>\n",
       "      <td>0</td>\n",
       "      <td>0</td>\n",
       "      <td>0</td>\n",
       "      <td>0</td>\n",
       "      <td>0</td>\n",
       "      <td>0</td>\n",
       "      <td>1</td>\n",
       "    </tr>\n",
       "    <tr>\n",
       "      <th>1</th>\n",
       "      <td>1</td>\n",
       "      <td>14108</td>\n",
       "      <td>research on regenerative medicine introduction...</td>\n",
       "      <td>0</td>\n",
       "      <td>0</td>\n",
       "      <td>0</td>\n",
       "      <td>0</td>\n",
       "      <td>1</td>\n",
       "      <td>0</td>\n",
       "      <td>0</td>\n",
       "      <td>0</td>\n",
       "      <td>0</td>\n",
       "      <td>0</td>\n",
       "      <td>0</td>\n",
       "      <td>0</td>\n",
       "      <td>1</td>\n",
       "    </tr>\n",
       "  </tbody>\n",
       "</table>\n",
       "</div>"
      ],
      "text/plain": [
       "   key_0     ID                                               Text  1  10  11  \\\n",
       "0      0  12555  centers of biomedical research excellence  cob...  1   0   0   \n",
       "1      1  14108  research on regenerative medicine introduction...  0   0   0   \n",
       "\n",
       "   12  2  3  4  5  6  7  8  9  label  \n",
       "0   0  0  0  0  0  0  0  0  0      1  \n",
       "1   0  1  0  0  0  0  0  0  0      1  "
      ]
     },
     "execution_count": 21,
     "metadata": {},
     "output_type": "execute_result"
    }
   ],
   "source": [
    "df2.head(2)"
   ]
  },
  {
   "cell_type": "code",
   "execution_count": null,
   "metadata": {},
   "outputs": [],
   "source": []
  }
 ],
 "metadata": {
  "kernelspec": {
   "display_name": "Python 3",
   "language": "python",
   "name": "python3"
  },
  "language_info": {
   "codemirror_mode": {
    "name": "ipython",
    "version": 3
   },
   "file_extension": ".py",
   "mimetype": "text/x-python",
   "name": "python",
   "nbconvert_exporter": "python",
   "pygments_lexer": "ipython3",
   "version": "3.6.6"
  }
 },
 "nbformat": 4,
 "nbformat_minor": 2
}
