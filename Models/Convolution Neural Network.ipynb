{
 "cells": [
  {
   "cell_type": "markdown",
   "metadata": {},
   "source": [
    "# CNN"
   ]
  },
  {
   "cell_type": "code",
   "execution_count": 20,
   "metadata": {},
   "outputs": [
    {
     "name": "stderr",
     "output_type": "stream",
     "text": [
      "/home/maslinux/anaconda3/lib/python3.6/site-packages/h5py/__init__.py:36: FutureWarning: Conversion of the second argument of issubdtype from `float` to `np.floating` is deprecated. In future, it will be treated as `np.float64 == np.dtype(float).type`.\n",
      "  from ._conv import register_converters as _register_converters\n",
      "Using TensorFlow backend.\n"
     ]
    }
   ],
   "source": [
    "from keras.preprocessing import sequence\n",
    "from keras.models import Model, Input\n",
    "from keras.layers import Dense, Embedding, GlobalMaxPooling1D\n",
    "from keras.preprocessing.text import Tokenizer\n",
    "from keras.optimizers import Adam\n",
    "from keras.layers import Dense, Dropout, Activation, BatchNormalization"
   ]
  },
  {
   "cell_type": "code",
   "execution_count": 21,
   "metadata": {},
   "outputs": [],
   "source": [
    "train = pd.read_csv('preprocessed_train.csv', low_memory=False, encoding='latin1')\n",
    "final_out=pd.read_csv('Devex_submission_format.csv', low_memory=False, encoding='latin1')\n",
    "test = pd.read_csv(\"Devex_test_questions.csv\",low_memory=False, encoding='latin1')"
   ]
  },
  {
   "cell_type": "code",
   "execution_count": 22,
   "metadata": {},
   "outputs": [],
   "source": [
    "#clean_applied Text instead of using Text\n",
    "X_train = train['Text'].fillna(\"fillna\").values\n",
    "y_train = train[['3.1.1', '3.1.2', '3.2.1',\n",
    "       '3.2.2', '3.3.1', '3.3.2', '3.3.3', '3.3.4', '3.3.5', '3.4.1', '3.4.2',\n",
    "       '3.5.1', '3.5.2', '3.6.1', '3.7.1', '3.7.2', '3.8.1', '3.8.2', '3.9.1',\n",
    "       '3.9.2', '3.9.3', '3.a.1', '3.b.1', '3.b.2', '3.b.3', '3.c.1', '3.d.1']].astype(float).values #.astype(np.int64).values\n",
    "X_test = test['Text'].fillna(\"fillna\").values"
   ]
  },
  {
   "cell_type": "code",
   "execution_count": 23,
   "metadata": {},
   "outputs": [],
   "source": [
    "max_features = 30000  # number of words we want to keep\n",
    "maxlen = 400  # max length of the docs in the model\n",
    "batch_size = 32  # batch size for the model\n",
    "embedding_dims = 20  # dimension of the hidden variable, which is the embedding dimension"
   ]
  },
  {
   "cell_type": "code",
   "execution_count": 24,
   "metadata": {},
   "outputs": [
    {
     "name": "stdout",
     "output_type": "stream",
     "text": [
      "2995 train sequences\n",
      "998 test sequences\n",
      "Average train sequence length: 493\n",
      "Average test sequence length: 597\n"
     ]
    }
   ],
   "source": [
    "tok = Tokenizer(num_words=max_features)\n",
    "tok.fit_on_texts(list(X_train) + list(X_test))\n",
    "x_train = tok.texts_to_sequences(X_train)\n",
    "x_test = tok.texts_to_sequences(X_test)\n",
    "print(len(x_train), 'train sequences')\n",
    "print(len(x_test), 'test sequences')\n",
    "print('Average train sequence length: {}'.format(np.mean(list(map(len, x_train)), dtype=int)))\n",
    "print('Average test sequence length: {}'.format(np.mean(list(map(len, x_test)), dtype=int)))"
   ]
  },
  {
   "cell_type": "code",
   "execution_count": 25,
   "metadata": {},
   "outputs": [
    {
     "name": "stdout",
     "output_type": "stream",
     "text": [
      "x_train shape: (2995, 400)\n",
      "x_test shape: (998, 400)\n"
     ]
    }
   ],
   "source": [
    "x_train = sequence.pad_sequences(x_train, maxlen=maxlen,padding='post')\n",
    "x_test = sequence.pad_sequences(x_test, maxlen=maxlen)\n",
    "print('x_train shape:', x_train.shape)\n",
    "print('x_test shape:', x_test.shape)"
   ]
  },
  {
   "cell_type": "code",
   "execution_count": 26,
   "metadata": {},
   "outputs": [
    {
     "name": "stderr",
     "output_type": "stream",
     "text": [
      "/home/maslinux/anaconda3/lib/python3.6/site-packages/sklearn/model_selection/_split.py:2069: FutureWarning: From version 0.21, test_size will always complement train_size unless both are specified.\n",
      "  FutureWarning)\n"
     ]
    }
   ],
   "source": [
    "from sklearn.model_selection import train_test_split\n",
    "#X_tra, X_val, y_tra, y_val = train_test_split(x_train, y_train, train_size=0.7, random_state=233)\n",
    "X_tra, X_val, y_tra, y_val = train_test_split(x_train, y_train, train_size=0.7, random_state=233)"
   ]
  },
  {
   "cell_type": "code",
   "execution_count": 27,
   "metadata": {},
   "outputs": [],
   "source": [
    "#binary_crossentropy\n",
    "comment_input = Input((maxlen,))\n",
    "from keras import regularizers\n",
    "\n",
    "# we start off with an efficient embedding layer which maps\n",
    "# our vocab indices into embedding_dims dimensions\n",
    "comment_emb = Embedding(max_features, embedding_dims, input_length=maxlen, \n",
    "                        embeddings_initializer=\"uniform\", embeddings_regularizer=regularizers.l2(0.01))(comment_input)\n",
    "\n",
    "# we add a GlobalMaxPooling1D, which will extract features from the embeddings\n",
    "# of all words in the documents\n",
    "h = GlobalMaxPooling1D()(comment_emb)\n",
    "\n",
    "# We project onto a 27-unit output layer, and squash it with a sigmoid:\n",
    "output = Dense(27, activation='sigmoid')(h)\n",
    "BatchNormalization()\n",
    "model_bin = Model(inputs=comment_input, outputs=output)\n",
    "BatchNormalization()\n",
    "#mod.add()\n",
    "\n",
    "model_bin.compile(loss='binary_crossentropy',\n",
    "              optimizer=Adam(0.01),\n",
    "              metrics=['accuracy'])"
   ]
  },
  {
   "cell_type": "code",
   "execution_count": 28,
   "metadata": {},
   "outputs": [
    {
     "name": "stdout",
     "output_type": "stream",
     "text": [
      "Train on 2695 samples, validate on 300 samples\n",
      "Epoch 1/5\n",
      "2695/2695 [==============================] - 3s 1ms/step - loss: 0.5781 - acc: 0.9142 - val_loss: 0.2618 - val_acc: 0.9260\n",
      "Epoch 2/5\n",
      "2695/2695 [==============================] - 2s 857us/step - loss: 0.2570 - acc: 0.9271 - val_loss: 0.2499 - val_acc: 0.9260\n",
      "Epoch 3/5\n",
      "2695/2695 [==============================] - 2s 856us/step - loss: 0.2493 - acc: 0.9271 - val_loss: 0.2450 - val_acc: 0.9260\n",
      "Epoch 4/5\n",
      "2695/2695 [==============================] - 2s 861us/step - loss: 0.2458 - acc: 0.9271 - val_loss: 0.2423 - val_acc: 0.9262\n",
      "Epoch 5/5\n",
      "2695/2695 [==============================] - 2s 895us/step - loss: 0.2437 - acc: 0.9271 - val_loss: 0.2407 - val_acc: 0.9260\n"
     ]
    }
   ],
   "source": [
    "hist = model_bin.fit(x_train, y_train, batch_size=batch_size, epochs=5, validation_split=0.1)"
   ]
  },
  {
   "cell_type": "code",
   "execution_count": 29,
   "metadata": {},
   "outputs": [
    {
     "data": {
      "text/plain": [
       "<function ndarray.sum>"
      ]
     },
     "execution_count": 29,
     "metadata": {},
     "output_type": "execute_result"
    }
   ],
   "source": [
    "y_pred = model_bin.predict(X_val, batch_size=32)\n",
    "y_pred[0].sum"
   ]
  },
  {
   "cell_type": "code",
   "execution_count": 30,
   "metadata": {},
   "outputs": [],
   "source": [
    "from sklearn.metrics import hamming_loss\n",
    "def avg_loss(threshold, y_pred, y_val):\n",
    "    loss = []\n",
    "    final_test =  y_pred > threshold\n",
    "    ham_y = final_test.astype(int)\n",
    "    ham_true = y_val.astype(int)\n",
    "    for i in range(len(y_pred)):\n",
    "        loss.append(hamming_loss(ham_y[i], ham_true[i]))\n",
    "    return np.mean(loss)"
   ]
  },
  {
   "cell_type": "code",
   "execution_count": 31,
   "metadata": {},
   "outputs": [
    {
     "data": {
      "text/plain": [
       "{0.3: 0.07320891525563382,\n",
       " 0.3157894736842105: 0.07189057800848679,\n",
       " 0.33157894736842103: 0.07156099369670002,\n",
       " 0.34736842105263155: 0.07123140938491326,\n",
       " 0.3631578947368421: 0.07114901330696657,\n",
       " 0.3789473684210526: 0.07114901330696657,\n",
       " 0.39473684210526316: 0.07114901330696657,\n",
       " 0.4105263157894737: 0.07102541919004655,\n",
       " 0.4263157894736842: 0.07102541919004655,\n",
       " 0.4421052631578947: 0.07147859761875332,\n",
       " 0.45789473684210524: 0.07151979565772669,\n",
       " 0.4736842105263158: 0.07156099369670003,\n",
       " 0.4894736842105263: 0.07139620154080667,\n",
       " 0.5052631578947369: 0.07139620154080667,\n",
       " 0.5210526315789474: 0.07139620154080667,\n",
       " 0.5368421052631579: 0.07139620154080667,\n",
       " 0.5526315789473684: 0.07139620154080667,\n",
       " 0.5684210526315789: 0.07139620154080667,\n",
       " 0.5842105263157895: 0.07139620154080667,\n",
       " 0.6: 0.07139620154080667}"
      ]
     },
     "execution_count": 31,
     "metadata": {},
     "output_type": "execute_result"
    }
   ],
   "source": [
    "optimal_threshold ={}\n",
    "for i in np.linspace(.3, .6, num=20):\n",
    "    optimal_threshold[i]= avg_loss(i, y_pred, y_val)\n",
    "optimal_threshold"
   ]
  },
  {
   "cell_type": "code",
   "execution_count": 32,
   "metadata": {},
   "outputs": [
    {
     "data": {
      "text/plain": [
       "(0.4105263157894737, 0.07102541919004655)"
      ]
     },
     "execution_count": 32,
     "metadata": {},
     "output_type": "execute_result"
    }
   ],
   "source": [
    "threshold = min(optimal_threshold.items(), key=lambda x: x[1]) \n",
    "threshold"
   ]
  },
  {
   "cell_type": "code",
   "execution_count": 33,
   "metadata": {},
   "outputs": [],
   "source": [
    "y_pred_submit = model_bin.predict(x_test)\n"
   ]
  },
  {
   "cell_type": "code",
   "execution_count": null,
   "metadata": {},
   "outputs": [],
   "source": []
  },
  {
   "cell_type": "code",
   "execution_count": null,
   "metadata": {},
   "outputs": [],
   "source": []
  }
 ],
 "metadata": {
  "kernelspec": {
   "display_name": "Python 3",
   "language": "python",
   "name": "python3"
  },
  "language_info": {
   "codemirror_mode": {
    "name": "ipython",
    "version": 3
   },
   "file_extension": ".py",
   "mimetype": "text/x-python",
   "name": "python",
   "nbconvert_exporter": "python",
   "pygments_lexer": "ipython3",
   "version": "3.6.6"
  }
 },
 "nbformat": 4,
 "nbformat_minor": 2
}
